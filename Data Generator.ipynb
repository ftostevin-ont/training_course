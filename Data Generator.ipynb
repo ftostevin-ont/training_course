{
 "cells": [
  {
   "cell_type": "code",
   "execution_count": 1,
   "id": "c7d627c0",
   "metadata": {},
   "outputs": [],
   "source": [
    "import random\n",
    "import numpy as np\n",
    "from matplotlib import pyplot as plt\n",
    "import itertools\n",
    "import json\n",
    "\n",
    "\"\"\"\n",
    "A simple simulator for Oxford Nanopore current signals.\n",
    "\n",
    "Support for:\n",
    "\n",
    "0. Arbitrary kmer lengths\n",
    "1. User defined signal noise (default is gaussian)\n",
    "2. User defined dwell-time distribution (default is poisson)\n",
    "3. Sensible defaults\n",
    "\n",
    "Example usage:\n",
    "\n",
    ">>> sequence = simulate_dna_sequence(200)\n",
    ">>> pore_model = Pore(kmer_len=5)\n",
    ">>> signal = pore_model.get_squiggle(sequence)\n",
    ">>> plt.plot(signal)\n",
    ">>> plt.show()\n",
    "\"\"\"\n",
    "\n",
    "ALPHABET = \"ACGT\"\n",
    "NUCLEOTIDE_ORDER = {\"A\": 0, \"C\": 1, \"G\": 2, \"T\": 3}\n",
    "\n",
    "DWELL = {\n",
    "    'fixed':   lambda mean_dwell: mean_dwell,\n",
    "    'normal':  lambda mean_dwell: max(0, int(np.round(np.random.normal(mean_dwell)))),\n",
    "    'gamma':   lambda mean_dwell: int(np.round(np.random.gamma(2.0, mean_dwell / 2))),\n",
    "    'poisson': lambda mean_dwell: np.random.poisson(mean_dwell),\n",
    "}\n",
    "\n",
    "NOISE = {\n",
    "    'clean':  lambda signal, amp=0.00: np.zeros(len(signal)),\n",
    "    'normal': lambda signal, amp=0.05: np.random.normal(0, amp, len(signal))\n",
    "}\n",
    "\n",
    "\n",
    "CURRENT_LEVELS = {\n",
    "    'even_space': lambda kmer_len: list(np.arange(0, 1, 1 / len(ALPHABET) ** kmer_len)),\n",
    "    'random': lambda kmer_len: [random.random() for _ in range(len(ALPHABET) ** kmer_len)],\n",
    "    'resistor_model': lambda kmer_len: [serial_resistor_model(k, kmer_len) for k in range(len(ALPHABET) ** kmer_len)]\n",
    "}\n",
    "\n",
    "\n",
    "def simulate_dna_sequence(seq_length, alphabet=ALPHABET):\n",
    "    \"\"\"\n",
    "    Generate a random sequence of length `seq_length`.\n",
    "    \"\"\"\n",
    "    return \"\".join(random.choice(alphabet) for _ in range(seq_length))\n",
    "\n",
    "\n",
    "def sequence_generator(mean_seq_length, seq_length_distribution_process=\"normal\"):\n",
    "    \"\"\"\n",
    "    Infinite generator of random sequences.\n",
    "    \"\"\"\n",
    "    while True:\n",
    "        seq_length = DWELL[seq_length_distribution_process](mean_seq_length)\n",
    "        yield simulate_dna_sequence(seq_length)\n",
    "\n",
    "\n",
    "def serial_resistor_model(kmer, kmer_len):\n",
    "    \"\"\"\n",
    "    Under this model each nucleotide contributes a fixed serial resistance,\n",
    "    Hence, kmers ACA, CAA, AAC all have the same level.\n",
    "    The level is normalised so conductance is always between 0.0 and 1.0.\n",
    "    \"\"\"\n",
    "    conductance = 0.0\n",
    "    for i in range(kmer_len):\n",
    "        conductance += float((kmer & 3)) / (len(ALPHABET) - 1)\n",
    "        kmer = kmer >> 2\n",
    "    conductance = conductance / kmer_len\n",
    "    return conductance\n",
    "\n",
    "\n",
    "class Pore:\n",
    "\n",
    "    def __init__(\n",
    "            self, kmer_len=5, mean_dwell_time=10,\n",
    "            signal_to_noise=250,\n",
    "            signal_noise_process=\"normal\",\n",
    "            dwell_distribution_process=\"poisson\",\n",
    "            current_level_model=\"random\"\n",
    "    ):\n",
    "        self.kmer_len = kmer_len\n",
    "        self.mean_dwell_time = mean_dwell_time\n",
    "        self.noise_amplitude = 1.0 / signal_to_noise\n",
    "        self.signal_noise_process = NOISE[signal_noise_process]\n",
    "        self.dwell_distribution_process = DWELL[dwell_distribution_process]\n",
    "        self.current_levels = CURRENT_LEVELS[current_level_model](self.kmer_len)\n",
    "\n",
    "    def _kmer_index(self, kmer):\n",
    "        lexical_order = NUCLEOTIDE_ORDER[kmer[0]]\n",
    "        for k in kmer[1:]:\n",
    "            lexical_order = (lexical_order << 2) + NUCLEOTIDE_ORDER[k]\n",
    "        return lexical_order\n",
    "    \n",
    "    def kmer_table(self):\n",
    "        labels = [\"\".join(s) for s in itertools.product('ACGT', repeat=self.kmer_len)]\n",
    "        return (dict(zip(labels, self.current_levels)))\n",
    "        \n",
    "    def generate_signal(self, dna_sequence, return_alignment=False):\n",
    "        signal = []\n",
    "        alignment = [0, ]\n",
    "        for i in range(len(dna_sequence) - self.kmer_len + 1):\n",
    "            kmer = dna_sequence[i: i + self.kmer_len]\n",
    "            kmer_index = self._kmer_index(kmer)\n",
    "            dwell_time = self.dwell_distribution_process(self.mean_dwell_time)\n",
    "            for _ in range(dwell_time):\n",
    "                signal.append(self.current_levels[kmer_index])\n",
    "            alignment.append(max(0, len(signal) - 1))\n",
    "\n",
    "        noise = self.signal_noise_process(signal, amp=self.noise_amplitude)\n",
    "\n",
    "        if return_alignment:\n",
    "            return np.array(signal) + noise, np.array(alignment)\n",
    "        return np.array(signal) + noise\n",
    "\n",
    "\n",
    "def simulator(seq_length, pore, seq_length_distribution=\"normal\", chunksize=None):\n",
    "    \"\"\"\n",
    "    Infinite generator of `sequence, signal, alignment`.\n",
    "    \"\"\"\n",
    "    for sequence in sequence_generator(seq_length, seq_length_distribution):\n",
    "\n",
    "        signal, alignment = pore.generate_signal(sequence, return_alignment=True)\n",
    "\n",
    "        if chunksize and alignment[-1] < chunksize:\n",
    "            print('sequence too short')\n",
    "            continue\n",
    "\n",
    "        if chunksize:\n",
    "            pos = np.searchsorted(alignment, chunksize)\n",
    "            yield sequence[:pos], signal[:chunksize], alignment[:pos]\n",
    "        else:\n",
    "            yield sequence, signal, alignment\n",
    "\n"
   ]
  },
  {
   "cell_type": "code",
   "execution_count": 2,
   "id": "30162343",
   "metadata": {},
   "outputs": [],
   "source": [
    "np.random.seed(1)"
   ]
  },
  {
   "cell_type": "markdown",
   "id": "78db2cc5",
   "metadata": {},
   "source": [
    "## Make a pore object"
   ]
  },
  {
   "cell_type": "code",
   "execution_count": 3,
   "id": "787301ee",
   "metadata": {},
   "outputs": [],
   "source": [
    "pore = Pore(kmer_len=2,\n",
    "           current_level_model=\"even_space\")"
   ]
  },
  {
   "cell_type": "markdown",
   "id": "c9d6a182",
   "metadata": {},
   "source": [
    "## Let's generate the kmer table"
   ]
  },
  {
   "cell_type": "code",
   "execution_count": 4,
   "id": "04b7c5e6",
   "metadata": {},
   "outputs": [],
   "source": [
    "kmer_table = pore.kmer_table()"
   ]
  },
  {
   "cell_type": "code",
   "execution_count": 5,
   "id": "aa6fda90",
   "metadata": {},
   "outputs": [],
   "source": [
    "with open('kmer_table.json', 'w') as kmer_table_file:\n",
    "     kmer_table_file.write(json.dumps(kmer_table))"
   ]
  },
  {
   "cell_type": "markdown",
   "id": "9fd65a78",
   "metadata": {},
   "source": [
    "## Now let's generate some signals"
   ]
  },
  {
   "cell_type": "code",
   "execution_count": 6,
   "id": "afeb1ce5",
   "metadata": {},
   "outputs": [],
   "source": [
    "num_signals = 1000"
   ]
  },
  {
   "cell_type": "code",
   "execution_count": 7,
   "id": "f2021c82",
   "metadata": {},
   "outputs": [],
   "source": [
    "signals = []\n",
    "sequences = []\n",
    "\n",
    "for i in range(200):\n",
    "    result = next(simulator(200, pore, chunksize=1000))\n",
    "    sequences.append(result[0])\n",
    "    signals.append(result[1].tolist())\n",
    "\n",
    "with open('signals.json', 'w') as signals_file:\n",
    "    signals_file.write(json.dumps(signals))\n",
    "    \n",
    "with open('sequences.json', 'w') as sequences_file:\n",
    "    sequences_file.write(json.dumps(sequences))"
   ]
  },
  {
   "cell_type": "markdown",
   "id": "d4dc6280",
   "metadata": {},
   "source": [
    "## Plot kmer levels"
   ]
  },
  {
   "cell_type": "code",
   "execution_count": 8,
   "id": "5bc44608",
   "metadata": {},
   "outputs": [
    {
     "data": {
      "image/png": "[encoded data removed]",
      "text/plain": [
       "<Figure size 432x288 with 1 Axes>"
      ]
     },
     "metadata": {
      "needs_background": "light"
     },
     "output_type": "display_data"
    }
   ],
   "source": [
    "for value in kmer_table.values():\n",
    "    plt.plot(1,value,marker='o')"
   ]
  },
  {
   "cell_type": "markdown",
   "id": "f037ea3b",
   "metadata": {},
   "source": [
    "## Plot an example of a signal"
   ]
  },
  {
   "cell_type": "code",
   "execution_count": 9,
   "id": "03fc76d5",
   "metadata": {},
   "outputs": [
    {
     "data": {
      "text/plain": [
       "[<matplotlib.lines.Line2D at 0x11665aac0>]"
      ]
     },
     "execution_count": 9,
     "metadata": {},
     "output_type": "execute_result"
    },
    {
     "data": {
      "image/png": "[encoded data removed]",
      "text/plain": [
       "<Figure size 432x288 with 1 Axes>"
      ]
     },
     "metadata": {
      "needs_background": "light"
     },
     "output_type": "display_data"
    }
   ],
   "source": [
    "plt.plot(signals[0][:300])"
   ]
  },
  {
   "cell_type": "code",
   "execution_count": null,
   "id": "acff96a6",
   "metadata": {},
   "outputs": [],
   "source": []
  }
 ],
 "metadata": {
  "kernelspec": {
   "display_name": "Python 3 (ipykernel)",
   "language": "python",
   "name": "python3"
  },
  "language_info": {
   "codemirror_mode": {
    "name": "ipython",
    "version": 3
   },
   "file_extension": ".py",
   "mimetype": "text/x-python",
   "name": "python",
   "nbconvert_exporter": "python",
   "pygments_lexer": "ipython3",
   "version": "3.9.13"
  }
 },
 "nbformat": 4,
 "nbformat_minor": 5
}
